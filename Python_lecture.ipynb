{
 "cells": [
  {
   "cell_type": "markdown",
   "metadata": {},
   "source": [
    "## Python Basic"
   ]
  },
  {
   "cell_type": "markdown",
   "metadata": {},
   "source": [
    "### print a sentence "
   ]
  },
  {
   "cell_type": "code",
   "execution_count": 1,
   "metadata": {},
   "outputs": [
    {
     "name": "stdout",
     "output_type": "stream",
     "text": [
      "Hello world and Duckietown!\n"
     ]
    }
   ],
   "source": [
    "print (\"Hello world and Duckietown!\")"
   ]
  },
  {
   "cell_type": "markdown",
   "metadata": {},
   "source": [
    "### Initialize a variable and addition "
   ]
  },
  {
   "cell_type": "code",
   "execution_count": 2,
   "metadata": {},
   "outputs": [
    {
     "name": "stdout",
     "output_type": "stream",
     "text": [
      "The total is: 1\n"
     ]
    }
   ],
   "source": [
    "duckiebot = 0\n",
    "a = 1\n",
    "total = duckiebot + a\n",
    "\n",
    "print (\"The total is:\", total)"
   ]
  },
  {
   "cell_type": "markdown",
   "metadata": {},
   "source": [
    "### A small task - 1"
   ]
  },
  {
   "cell_type": "code",
   "execution_count": 3,
   "metadata": {},
   "outputs": [],
   "source": [
    "### copy and paste the above cell and make it to subtraction"
   ]
  },
  {
   "cell_type": "code",
   "execution_count": null,
   "metadata": {},
   "outputs": [],
   "source": []
  },
  {
   "cell_type": "markdown",
   "metadata": {},
   "source": [
    "### Multiplication and division "
   ]
  },
  {
   "cell_type": "code",
   "execution_count": 4,
   "metadata": {},
   "outputs": [
    {
     "name": "stdout",
     "output_type": "stream",
     "text": [
      "How many duckies do we need? 50\n",
      "A student can get this amount of duckies. 5.0\n"
     ]
    }
   ],
   "source": [
    "duckies = 5\n",
    "students = 10\n",
    "total_amount = duckies*students\n",
    "\n",
    "print (\"How many duckies do we need?\", total_amount)\n",
    "\n",
    "duckies = 60\n",
    "students = 12\n",
    "duckie_per_student = duckies/students\n",
    "\n",
    "print (\"A student can get this amount of duckies.\", duckie_per_student)"
   ]
  },
  {
   "cell_type": "markdown",
   "metadata": {},
   "source": [
    "### Function in Python "
   ]
  },
  {
   "cell_type": "code",
   "execution_count": 5,
   "metadata": {},
   "outputs": [],
   "source": [
    "### A function is a part of code that can be called and reused whenever you want"
   ]
  },
  {
   "cell_type": "code",
   "execution_count": 6,
   "metadata": {},
   "outputs": [],
   "source": [
    "def addition(a, b):\n",
    "    result = a + b\n",
    "    return result"
   ]
  },
  {
   "cell_type": "code",
   "execution_count": 7,
   "metadata": {},
   "outputs": [],
   "source": [
    "### How do we used a defined function?"
   ]
  },
  {
   "cell_type": "code",
   "execution_count": 8,
   "metadata": {},
   "outputs": [
    {
     "name": "stdout",
     "output_type": "stream",
     "text": [
      "Here are the total birds we have. 15\n"
     ]
    }
   ],
   "source": [
    "duckies = 5\n",
    "chickens = 10\n",
    "total_birds = addition(duckies, chickens)\n",
    "\n",
    "print (\"Here are the total birds we have.\", total_birds)"
   ]
  },
  {
   "cell_type": "markdown",
   "metadata": {},
   "source": [
    "### For loop"
   ]
  },
  {
   "cell_type": "code",
   "execution_count": 9,
   "metadata": {},
   "outputs": [],
   "source": [
    "### A for loop is a \"loop\" which you can defined how many times you want to run it"
   ]
  },
  {
   "cell_type": "code",
   "execution_count": 10,
   "metadata": {},
   "outputs": [
    {
     "name": "stdout",
     "output_type": "stream",
     "text": [
      "Now the 'duckie' is 0\n",
      "Now the 'duckie' is 1\n",
      "Now the 'duckie' is 2\n",
      "Now the 'duckie' is 3\n",
      "Now the 'duckie' is 4\n"
     ]
    }
   ],
   "source": [
    "for duckie in range(5): # i = 0, 1, 2, 3, 4 in each loop\n",
    "    print (\"Now the 'duckie' is\", duckie)"
   ]
  },
  {
   "cell_type": "code",
   "execution_count": 11,
   "metadata": {},
   "outputs": [
    {
     "name": "stdout",
     "output_type": "stream",
     "text": [
      "Now the 'duckie' is 2\n",
      "Now the 'duckie' is 3\n",
      "Now the 'duckie' is 4\n"
     ]
    }
   ],
   "source": [
    "for duckie in range(2, 5): # i = 2, 3, 4 in each loop\n",
    "    print (\"Now the 'duckie' is\", duckie)"
   ]
  },
  {
   "cell_type": "markdown",
   "metadata": {},
   "source": [
    "### if-else "
   ]
  },
  {
   "cell_type": "code",
   "execution_count": 12,
   "metadata": {},
   "outputs": [
    {
     "name": "stdout",
     "output_type": "stream",
     "text": [
      "There are duckies.\n"
     ]
    }
   ],
   "source": [
    "duckies = 5\n",
    "\n",
    "if duckies > 0:\n",
    "    print (\"There are duckies.\")\n",
    "else:\n",
    "    print (\"There are no duckies.\")"
   ]
  }
 ],
 "metadata": {
  "kernelspec": {
   "display_name": "Python 3",
   "language": "python",
   "name": "python3"
  },
  "language_info": {
   "codemirror_mode": {
    "name": "ipython",
    "version": 3
   },
   "file_extension": ".py",
   "mimetype": "text/x-python",
   "name": "python",
   "nbconvert_exporter": "python",
   "pygments_lexer": "ipython3",
   "version": "3.7.3"
  }
 },
 "nbformat": 4,
 "nbformat_minor": 2
}
