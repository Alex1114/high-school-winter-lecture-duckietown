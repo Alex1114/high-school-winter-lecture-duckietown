{
 "cells": [
  {
   "cell_type": "markdown",
   "metadata": {},
   "source": [
    "Remember to source environment.sh and set_ros_master before open this file"
   ]
  },
  {
   "cell_type": "markdown",
   "metadata": {},
   "source": [
    "Also export your host ip to ROS_IP using >> export ROS_IP=$(hostname -I)"
   ]
  },
  {
   "cell_type": "markdown",
   "metadata": {},
   "source": [
    "# Welcome to Duckietown!! "
   ]
  },
  {
   "cell_type": "markdown",
   "metadata": {},
   "source": [
    "## 1. Python Basic"
   ]
  },
  {
   "cell_type": "markdown",
   "metadata": {},
   "source": [
    "### print a sentence "
   ]
  },
  {
   "cell_type": "code",
   "execution_count": 1,
   "metadata": {},
   "outputs": [
    {
     "name": "stdout",
     "output_type": "stream",
     "text": [
      "Hallo world and Duckietown!\n"
     ]
    }
   ],
   "source": [
    "print (\"Hallo world and Duckietown!\")"
   ]
  },
  {
   "cell_type": "markdown",
   "metadata": {},
   "source": [
    "### Initialize a variable and addition "
   ]
  },
  {
   "cell_type": "code",
   "execution_count": 2,
   "metadata": {},
   "outputs": [
    {
     "name": "stdout",
     "output_type": "stream",
     "text": [
      "The total is: 1\n"
     ]
    }
   ],
   "source": [
    "duckiebot = 0\n",
    "a = 1\n",
    "total = duckiebot + a\n",
    "\n",
    "print (\"The total is:\", total)"
   ]
  },
  {
   "cell_type": "markdown",
   "metadata": {},
   "source": [
    "### A small task - 1"
   ]
  },
  {
   "cell_type": "code",
   "execution_count": 3,
   "metadata": {},
   "outputs": [],
   "source": [
    "### copy and paste the above cell and make it to subtraction"
   ]
  },
  {
   "cell_type": "code",
   "execution_count": null,
   "metadata": {},
   "outputs": [],
   "source": []
  },
  {
   "cell_type": "markdown",
   "metadata": {},
   "source": [
    "### Multiplication and division "
   ]
  },
  {
   "cell_type": "code",
   "execution_count": 4,
   "metadata": {
    "scrolled": true
   },
   "outputs": [
    {
     "name": "stdout",
     "output_type": "stream",
     "text": [
      "How many duckies do we need? 50\n",
      "A student can get this amount of duckies. 5.0\n"
     ]
    }
   ],
   "source": [
    "duckies = 5\n",
    "students = 10\n",
    "total_amount = duckies*students\n",
    "\n",
    "print (\"How many duckies do we need?\", total_amount)\n",
    "\n",
    "duckies = 60\n",
    "students = 12\n",
    "duckie_per_student = duckies/students\n",
    "\n",
    "print (\"A student can get this amount of duckies.\", duckie_per_student)"
   ]
  },
  {
   "cell_type": "markdown",
   "metadata": {},
   "source": [
    "### Function in Python "
   ]
  },
  {
   "cell_type": "code",
   "execution_count": 5,
   "metadata": {},
   "outputs": [],
   "source": [
    "### A function is a part of code that can be called and reused whenever you want"
   ]
  },
  {
   "cell_type": "code",
   "execution_count": 6,
   "metadata": {},
   "outputs": [],
   "source": [
    "def addition(a, b):\n",
    "    result = a + b\n",
    "    return result"
   ]
  },
  {
   "cell_type": "code",
   "execution_count": 7,
   "metadata": {},
   "outputs": [],
   "source": [
    "### How do we used a defined function?"
   ]
  },
  {
   "cell_type": "code",
   "execution_count": 8,
   "metadata": {},
   "outputs": [
    {
     "name": "stdout",
     "output_type": "stream",
     "text": [
      "Here are the total birds we have. 15\n"
     ]
    }
   ],
   "source": [
    "duckies = 5\n",
    "chickens = 10\n",
    "total_birds = addition(duckies, chickens)\n",
    "\n",
    "print (\"Here are the total birds we have.\", total_birds)"
   ]
  },
  {
   "cell_type": "markdown",
   "metadata": {},
   "source": [
    "### For loop"
   ]
  },
  {
   "cell_type": "code",
   "execution_count": 9,
   "metadata": {},
   "outputs": [],
   "source": [
    "### A for loop is a \"loop\" which you can defined how many times you want to run it"
   ]
  },
  {
   "cell_type": "code",
   "execution_count": 10,
   "metadata": {},
   "outputs": [
    {
     "name": "stdout",
     "output_type": "stream",
     "text": [
      "Now the 'duckie' is 0\n",
      "Now the 'duckie' is 1\n",
      "Now the 'duckie' is 2\n",
      "Now the 'duckie' is 3\n",
      "Now the 'duckie' is 4\n"
     ]
    }
   ],
   "source": [
    "for duckie in range(5): # i = 0, 1, 2, 3, 4 in each loop\n",
    "    print (\"Now the 'duckie' is\", duckie)"
   ]
  },
  {
   "cell_type": "code",
   "execution_count": 11,
   "metadata": {
    "scrolled": false
   },
   "outputs": [
    {
     "name": "stdout",
     "output_type": "stream",
     "text": [
      "Now the 'duckie' is 2\n",
      "Now the 'duckie' is 3\n",
      "Now the 'duckie' is 4\n"
     ]
    }
   ],
   "source": [
    "for duckie in range(2, 5): # i = 2, 3, 4 in each loop\n",
    "    print (\"Now the 'duckie' is\", duckie)"
   ]
  },
  {
   "cell_type": "markdown",
   "metadata": {},
   "source": [
    "### if-else "
   ]
  },
  {
   "cell_type": "code",
   "execution_count": 12,
   "metadata": {},
   "outputs": [
    {
     "name": "stdout",
     "output_type": "stream",
     "text": [
      "There are duckies.\n"
     ]
    }
   ],
   "source": [
    "duckies = 5\n",
    "\n",
    "if duckies > 0:\n",
    "    print (\"There are duckies.\")\n",
    "else:\n",
    "    print (\"There are no duckies.\")"
   ]
  },
  {
   "cell_type": "markdown",
   "metadata": {},
   "source": [
    "## 2. Now let's play around with our Duckiebot!!!"
   ]
  },
  {
   "cell_type": "markdown",
   "metadata": {},
   "source": [
    "### Import ROS"
   ]
  },
  {
   "cell_type": "code",
   "execution_count": 13,
   "metadata": {},
   "outputs": [
    {
     "ename": "ModuleNotFoundError",
     "evalue": "No module named 'rospy'",
     "output_type": "error",
     "traceback": [
      "\u001b[0;31m---------------------------------------------------------------------------\u001b[0m",
      "\u001b[0;31mModuleNotFoundError\u001b[0m                       Traceback (most recent call last)",
      "\u001b[0;32m<ipython-input-13-94ba54eec465>\u001b[0m in \u001b[0;36m<module>\u001b[0;34m\u001b[0m\n\u001b[1;32m     10\u001b[0m \u001b[0msys\u001b[0m\u001b[0;34m.\u001b[0m\u001b[0mpath\u001b[0m\u001b[0;34m.\u001b[0m\u001b[0minsert\u001b[0m\u001b[0;34m(\u001b[0m\u001b[0;36m0\u001b[0m\u001b[0;34m,\u001b[0m \u001b[0mduckietown_root\u001b[0m \u001b[0;34m+\u001b[0m \u001b[0;34m'catkin_ws/devel/lib/python2.7/dist-packages'\u001b[0m\u001b[0;34m)\u001b[0m\u001b[0;34m\u001b[0m\u001b[0;34m\u001b[0m\u001b[0m\n\u001b[1;32m     11\u001b[0m \u001b[0;34m\u001b[0m\u001b[0m\n\u001b[0;32m---> 12\u001b[0;31m \u001b[0;32mimport\u001b[0m \u001b[0mrospy\u001b[0m\u001b[0;34m\u001b[0m\u001b[0;34m\u001b[0m\u001b[0m\n\u001b[0m\u001b[1;32m     13\u001b[0m \u001b[0;32mfrom\u001b[0m \u001b[0mduckietown_msgs\u001b[0m\u001b[0;34m.\u001b[0m\u001b[0mmsg\u001b[0m \u001b[0;32mimport\u001b[0m \u001b[0mTwist2DStamped\u001b[0m\u001b[0;34m\u001b[0m\u001b[0;34m\u001b[0m\u001b[0m\n\u001b[1;32m     14\u001b[0m \u001b[0;32mfrom\u001b[0m \u001b[0msensor_msgs\u001b[0m\u001b[0;34m.\u001b[0m\u001b[0mmsg\u001b[0m \u001b[0;32mimport\u001b[0m \u001b[0mJoy\u001b[0m\u001b[0;34m\u001b[0m\u001b[0;34m\u001b[0m\u001b[0m\n",
      "\u001b[0;31mModuleNotFoundError\u001b[0m: No module named 'rospy'"
     ]
    }
   ],
   "source": [
    "# Environment set up\n",
    "import sys\n",
    "# rospy\n",
    "sys.path.insert(0, '/opt/ros/kinetic/lib/python2.7/dist-packages')\n",
    "# rospkg\n",
    "sys.path.insert(0, '/usr/lib/python2.7/dist-packages/')\n",
    "\n",
    "# duckietown_msgs\n",
    "duckietown_root = './duckietown/'  # set this path to your duckietown directory\n",
    "sys.path.insert(0, duckietown_root + 'catkin_ws/devel/lib/python2.7/dist-packages')\n",
    "\n",
    "import rospy\n",
    "from duckietown_msgs.msg import Twist2DStamped\n",
    "from sensor_msgs.msg import Joy"
   ]
  },
  {
   "cell_type": "markdown",
   "metadata": {},
   "source": [
    "### Initialize Node and Publisher"
   ]
  },
  {
   "cell_type": "code",
   "execution_count": 14,
   "metadata": {
    "scrolled": true
   },
   "outputs": [],
   "source": [
    "#please replace \"ai19\" with your duckiebot name\n",
    "#if rosgraph error occurs, close jupyter notebook and run setup.bash first\n",
    "pub_car_cmd = rospy.Publisher(\"/ai19/joy_mapper_node/car_cmd\",Twist2DStamped,queue_size=1)\n",
    "rospy.init_node(\"joy_mapper_node\",anonymous=True) "
   ]
  },
  {
   "cell_type": "markdown",
   "metadata": {},
   "source": [
    "### Define car_command"
   ]
  },
  {
   "cell_type": "code",
   "execution_count": 15,
   "metadata": {},
   "outputs": [],
   "source": [
    "def car_command(v, omega, duration):\n",
    "# Send stop command\n",
    "    car_control_msg = Twist2DStamped()\n",
    "    car_control_msg.v = v \n",
    "    car_control_msg.omega = omega \n",
    "    pub_car_cmd.publish(car_control_msg)\n",
    "    rospy.sleep(duration)\n",
    "    #rospy.loginfo(\"Shutdown\")\n",
    "    car_control_msg.v = 0.0 \n",
    "    car_control_msg.omega = 0.0 \n",
    "    pub_car_cmd.publish(car_control_msg) \n",
    "    rospy.sleep(0.5)"
   ]
  },
  {
   "cell_type": "markdown",
   "metadata": {},
   "source": [
    "### Examples of Using car_command"
   ]
  },
  {
   "cell_type": "markdown",
   "metadata": {},
   "source": [
    "### Ex1: Forward velocity = 1 for 0.75 seconds"
   ]
  },
  {
   "cell_type": "code",
   "execution_count": 16,
   "metadata": {},
   "outputs": [],
   "source": [
    "#car_command(1, 0, 0.75)"
   ]
  },
  {
   "cell_type": "markdown",
   "metadata": {},
   "source": [
    "### EX2: Turn with angular velocity = 4 for 1.0 seconds"
   ]
  },
  {
   "cell_type": "code",
   "execution_count": 17,
   "metadata": {},
   "outputs": [],
   "source": [
    "#car_command(0, 4, 1.0)"
   ]
  },
  {
   "cell_type": "markdown",
   "metadata": {},
   "source": [
    "### Define Joystick reaction"
   ]
  },
  {
   "cell_type": "markdown",
   "metadata": {},
   "source": [
    "#### Here is where all magic happens, you can define your own buttons!! "
   ]
  },
  {
   "cell_type": "code",
   "execution_count": 18,
   "metadata": {},
   "outputs": [],
   "source": [
    "# button A\n",
    "def button_A():\n",
    "    # forward\n",
    "    car_command(1, 0, 1)"
   ]
  },
  {
   "cell_type": "code",
   "execution_count": 19,
   "metadata": {},
   "outputs": [],
   "source": [
    "# button B\n",
    "def button_B():\n",
    "    # turn around\n",
    "    car_command(1, 10, 1)"
   ]
  },
  {
   "cell_type": "code",
   "execution_count": 20,
   "metadata": {},
   "outputs": [],
   "source": [
    "# button X\n",
    "def button_X():\n",
    "    # for loop\n",
    "    for i in range(4):\n",
    "        car_command(1, 0, 0.5)\n",
    "        car_command(0, 6, 0.5)"
   ]
  },
  {
   "cell_type": "code",
   "execution_count": 21,
   "metadata": {},
   "outputs": [],
   "source": [
    "#button Y\n",
    "def button_Y():\n",
    "    # put your creation!!\n",
    "    pass\n",
    "    "
   ]
  },
  {
   "cell_type": "code",
   "execution_count": 22,
   "metadata": {},
   "outputs": [],
   "source": [
    "def callback(msg):\n",
    "    #button A\n",
    "    if (msg.buttons[0] == 1):\n",
    "        print \"Button A down\"\n",
    "        button_A()\n",
    "    #button B\n",
    "    if (msg.buttons[1] == 1):\n",
    "        print \"Button B down\"\n",
    "        button_B()\n",
    "    #button X\n",
    "    if (msg.buttons[2] == 1):\n",
    "        print \"Button X down\"\n",
    "        button_X()    \n",
    "    #button Y\n",
    "    if (msg.buttons[3] == 1):\n",
    "        print \"Button Y down\"\n",
    "        button_Y()\n",
    "\n",
    "    # let the joy work\n",
    "    v_gain = 0.41\n",
    "    car_cmd_msg = Twist2DStamped()\n",
    "    car_cmd_msg.v = msg.axes[1] * v_gain\n",
    "    \n",
    "    omega_gain = 8.3\n",
    "    car_cmd_msg.omega = msg.axes[3] * omega_gain\n",
    "    pub_car_cmd.publish(car_cmd_msg)\n",
    "\n",
    "    return()"
   ]
  },
  {
   "cell_type": "code",
   "execution_count": 23,
   "metadata": {},
   "outputs": [],
   "source": [
    "sub_joy_command = rospy.Subscriber(\"/ai19/joy\", Joy, callback)"
   ]
  },
  {
   "cell_type": "code",
   "execution_count": null,
   "metadata": {},
   "outputs": [
    {
     "name": "stdout",
     "output_type": "stream",
     "text": [
      "Button A down\n",
      "Button X down\n",
      "Button Y down\n",
      "Button B down\n",
      "Button B down\n",
      "Button B down\n",
      "Button B down\n",
      "Button B down\n",
      "Button B down\n",
      "Button B down\n"
     ]
    }
   ],
   "source": [
    "rospy.spin()"
   ]
  },
  {
   "cell_type": "code",
   "execution_count": null,
   "metadata": {},
   "outputs": [],
   "source": []
  }
 ],
 "metadata": {
  "kernelspec": {
   "display_name": "Python 3",
   "language": "python",
   "name": "python3"
  },
  "language_info": {
   "codemirror_mode": {
    "name": "ipython",
    "version": 3
   },
   "file_extension": ".py",
   "mimetype": "text/x-python",
   "name": "python",
   "nbconvert_exporter": "python",
   "pygments_lexer": "ipython3",
   "version": "3.7.3"
  }
 },
 "nbformat": 4,
 "nbformat_minor": 2
}
